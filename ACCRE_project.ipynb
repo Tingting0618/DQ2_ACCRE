{
 "cells": [
  {
   "cell_type": "code",
   "execution_count": 3,
   "metadata": {},
   "outputs": [],
   "source": [
    "import matplotlib.pyplot as plt\n",
    "import numpy as np\n",
    "import pandas as pd"
   ]
  },
  {
   "cell_type": "code",
   "execution_count": 4,
   "metadata": {},
   "outputs": [
    {
     "name": "stderr",
     "output_type": "stream",
     "text": [
      "C:\\Users\\duant\\anaconda3\\lib\\site-packages\\IPython\\core\\interactiveshell.py:3063: DtypeWarning: Columns (7,8,13,14,15,16,17) have mixed types.Specify dtype option on import or set low_memory=False.\n",
      "  interactivity=interactivity, compiler=compiler, result=result)\n"
     ]
    }
   ],
   "source": [
    "col_names= ['JOBID', 'ACCOUNT', 'USER', 'REQMEM', 'USEDMEM', 'REQTIME', 'USEDTIME',\n",
    "       'NODES', 'CPUS', 'PARTITION', 'EXITCODE', 'STATE', 'NODE1','NODE2','NODE3','NODE4','NODE5','NODE6']\n",
    "accre_df = pd.read_csv('data/accre-jobs-2020.csv',nrows=100000, names=col_names)\n",
    "accre_df = accre_df.iloc[1:]\n"
   ]
  },
  {
   "cell_type": "markdown",
   "metadata": {},
   "source": [
    "Checking data"
   ]
  },
  {
   "cell_type": "code",
   "execution_count": 5,
   "metadata": {},
   "outputs": [
    {
     "data": {
      "text/html": [
       "<div>\n",
       "<style scoped>\n",
       "    .dataframe tbody tr th:only-of-type {\n",
       "        vertical-align: middle;\n",
       "    }\n",
       "\n",
       "    .dataframe tbody tr th {\n",
       "        vertical-align: top;\n",
       "    }\n",
       "\n",
       "    .dataframe thead th {\n",
       "        text-align: right;\n",
       "    }\n",
       "</style>\n",
       "<table border=\"1\" class=\"dataframe\">\n",
       "  <thead>\n",
       "    <tr style=\"text-align: right;\">\n",
       "      <th></th>\n",
       "      <th>JOBID</th>\n",
       "      <th>ACCOUNT</th>\n",
       "      <th>USER</th>\n",
       "      <th>REQMEM</th>\n",
       "      <th>USEDMEM</th>\n",
       "      <th>REQTIME</th>\n",
       "      <th>USEDTIME</th>\n",
       "      <th>NODES</th>\n",
       "      <th>CPUS</th>\n",
       "      <th>PARTITION</th>\n",
       "      <th>EXITCODE</th>\n",
       "      <th>STATE</th>\n",
       "      <th>NODE1</th>\n",
       "      <th>NODE2</th>\n",
       "      <th>NODE3</th>\n",
       "      <th>NODE4</th>\n",
       "      <th>NODE5</th>\n",
       "      <th>NODE6</th>\n",
       "    </tr>\n",
       "  </thead>\n",
       "  <tbody>\n",
       "    <tr>\n",
       "      <th>1</th>\n",
       "      <td>15925210</td>\n",
       "      <td>treviso</td>\n",
       "      <td>arabella</td>\n",
       "      <td>122880Mn</td>\n",
       "      <td>65973.49M</td>\n",
       "      <td>13-18:00:00</td>\n",
       "      <td>13-18:00:28</td>\n",
       "      <td>1</td>\n",
       "      <td>24</td>\n",
       "      <td>production</td>\n",
       "      <td>0:0</td>\n",
       "      <td>COMPLETED</td>\n",
       "      <td>cn1531</td>\n",
       "      <td>NaN</td>\n",
       "      <td>NaN</td>\n",
       "      <td>NaN</td>\n",
       "      <td>NaN</td>\n",
       "      <td>NaN</td>\n",
       "    </tr>\n",
       "    <tr>\n",
       "      <th>2</th>\n",
       "      <td>15861126</td>\n",
       "      <td>treviso</td>\n",
       "      <td>arabella</td>\n",
       "      <td>122880Mn</td>\n",
       "      <td>67181.12M</td>\n",
       "      <td>13-18:00:00</td>\n",
       "      <td>12-14:50:56</td>\n",
       "      <td>1</td>\n",
       "      <td>24</td>\n",
       "      <td>production</td>\n",
       "      <td>0:0</td>\n",
       "      <td>COMPLETED</td>\n",
       "      <td>cn1441</td>\n",
       "      <td>NaN</td>\n",
       "      <td>NaN</td>\n",
       "      <td>NaN</td>\n",
       "      <td>NaN</td>\n",
       "      <td>NaN</td>\n",
       "    </tr>\n",
       "    <tr>\n",
       "      <th>3</th>\n",
       "      <td>15861125</td>\n",
       "      <td>treviso</td>\n",
       "      <td>arabella</td>\n",
       "      <td>122880Mn</td>\n",
       "      <td>69111.86M</td>\n",
       "      <td>13-18:00:00</td>\n",
       "      <td>13-18:00:20</td>\n",
       "      <td>1</td>\n",
       "      <td>24</td>\n",
       "      <td>production</td>\n",
       "      <td>0:0</td>\n",
       "      <td>COMPLETED</td>\n",
       "      <td>cn1464</td>\n",
       "      <td>NaN</td>\n",
       "      <td>NaN</td>\n",
       "      <td>NaN</td>\n",
       "      <td>NaN</td>\n",
       "      <td>NaN</td>\n",
       "    </tr>\n",
       "  </tbody>\n",
       "</table>\n",
       "</div>"
      ],
      "text/plain": [
       "      JOBID  ACCOUNT      USER    REQMEM    USEDMEM      REQTIME     USEDTIME  \\\n",
       "1  15925210  treviso  arabella  122880Mn  65973.49M  13-18:00:00  13-18:00:28   \n",
       "2  15861126  treviso  arabella  122880Mn  67181.12M  13-18:00:00  12-14:50:56   \n",
       "3  15861125  treviso  arabella  122880Mn  69111.86M  13-18:00:00  13-18:00:20   \n",
       "\n",
       "  NODES CPUS   PARTITION EXITCODE      STATE   NODE1 NODE2 NODE3 NODE4 NODE5  \\\n",
       "1     1   24  production      0:0  COMPLETED  cn1531   NaN   NaN   NaN   NaN   \n",
       "2     1   24  production      0:0  COMPLETED  cn1441   NaN   NaN   NaN   NaN   \n",
       "3     1   24  production      0:0  COMPLETED  cn1464   NaN   NaN   NaN   NaN   \n",
       "\n",
       "  NODE6  \n",
       "1   NaN  \n",
       "2   NaN  \n",
       "3   NaN  "
      ]
     },
     "execution_count": 5,
     "metadata": {},
     "output_type": "execute_result"
    }
   ],
   "source": [
    "accre_df.head(3)"
   ]
  },
  {
   "cell_type": "code",
   "execution_count": 6,
   "metadata": {},
   "outputs": [
    {
     "data": {
      "text/html": [
       "<div>\n",
       "<style scoped>\n",
       "    .dataframe tbody tr th:only-of-type {\n",
       "        vertical-align: middle;\n",
       "    }\n",
       "\n",
       "    .dataframe tbody tr th {\n",
       "        vertical-align: top;\n",
       "    }\n",
       "\n",
       "    .dataframe thead th {\n",
       "        text-align: right;\n",
       "    }\n",
       "</style>\n",
       "<table border=\"1\" class=\"dataframe\">\n",
       "  <thead>\n",
       "    <tr style=\"text-align: right;\">\n",
       "      <th></th>\n",
       "      <th>JOBID</th>\n",
       "      <th>ACCOUNT</th>\n",
       "      <th>USER</th>\n",
       "      <th>REQMEM</th>\n",
       "      <th>USEDMEM</th>\n",
       "      <th>REQTIME</th>\n",
       "      <th>USEDTIME</th>\n",
       "      <th>NODES</th>\n",
       "      <th>CPUS</th>\n",
       "      <th>PARTITION</th>\n",
       "      <th>EXITCODE</th>\n",
       "      <th>STATE</th>\n",
       "      <th>NODE1</th>\n",
       "      <th>NODE2</th>\n",
       "      <th>NODE3</th>\n",
       "      <th>NODE4</th>\n",
       "      <th>NODE5</th>\n",
       "      <th>NODE6</th>\n",
       "    </tr>\n",
       "  </thead>\n",
       "  <tbody>\n",
       "    <tr>\n",
       "      <th>99997</th>\n",
       "      <td>17229139</td>\n",
       "      <td>cms</td>\n",
       "      <td>cmslocal</td>\n",
       "      <td>186648Mn</td>\n",
       "      <td>1.82M</td>\n",
       "      <td>2-00:00:00</td>\n",
       "      <td>00:01:19</td>\n",
       "      <td>1</td>\n",
       "      <td>32</td>\n",
       "      <td>nogpfs</td>\n",
       "      <td>0:0</td>\n",
       "      <td>COMPLETED</td>\n",
       "      <td>cn1588</td>\n",
       "      <td>NaN</td>\n",
       "      <td>NaN</td>\n",
       "      <td>NaN</td>\n",
       "      <td>NaN</td>\n",
       "      <td>NaN</td>\n",
       "    </tr>\n",
       "    <tr>\n",
       "      <th>99998</th>\n",
       "      <td>17229140</td>\n",
       "      <td>cms</td>\n",
       "      <td>cmslocal</td>\n",
       "      <td>28000Mn</td>\n",
       "      <td>9001.97M</td>\n",
       "      <td>2-00:00:00</td>\n",
       "      <td>07:49:19</td>\n",
       "      <td>1</td>\n",
       "      <td>4</td>\n",
       "      <td>production</td>\n",
       "      <td>0:0</td>\n",
       "      <td>COMPLETED</td>\n",
       "      <td>cn500</td>\n",
       "      <td>NaN</td>\n",
       "      <td>NaN</td>\n",
       "      <td>NaN</td>\n",
       "      <td>NaN</td>\n",
       "      <td>NaN</td>\n",
       "    </tr>\n",
       "    <tr>\n",
       "      <th>99999</th>\n",
       "      <td>17229141</td>\n",
       "      <td>cms</td>\n",
       "      <td>cmslocal</td>\n",
       "      <td>28000Mn</td>\n",
       "      <td>8508.70M</td>\n",
       "      <td>2-00:00:00</td>\n",
       "      <td>07:49:19</td>\n",
       "      <td>1</td>\n",
       "      <td>4</td>\n",
       "      <td>production</td>\n",
       "      <td>0:0</td>\n",
       "      <td>COMPLETED</td>\n",
       "      <td>cn498</td>\n",
       "      <td>NaN</td>\n",
       "      <td>NaN</td>\n",
       "      <td>NaN</td>\n",
       "      <td>NaN</td>\n",
       "      <td>NaN</td>\n",
       "    </tr>\n",
       "  </tbody>\n",
       "</table>\n",
       "</div>"
      ],
      "text/plain": [
       "          JOBID ACCOUNT      USER    REQMEM   USEDMEM     REQTIME  USEDTIME  \\\n",
       "99997  17229139     cms  cmslocal  186648Mn     1.82M  2-00:00:00  00:01:19   \n",
       "99998  17229140     cms  cmslocal   28000Mn  9001.97M  2-00:00:00  07:49:19   \n",
       "99999  17229141     cms  cmslocal   28000Mn  8508.70M  2-00:00:00  07:49:19   \n",
       "\n",
       "      NODES CPUS   PARTITION EXITCODE      STATE   NODE1 NODE2 NODE3 NODE4  \\\n",
       "99997     1   32      nogpfs      0:0  COMPLETED  cn1588   NaN   NaN   NaN   \n",
       "99998     1    4  production      0:0  COMPLETED   cn500   NaN   NaN   NaN   \n",
       "99999     1    4  production      0:0  COMPLETED   cn498   NaN   NaN   NaN   \n",
       "\n",
       "      NODE5 NODE6  \n",
       "99997   NaN   NaN  \n",
       "99998   NaN   NaN  \n",
       "99999   NaN   NaN  "
      ]
     },
     "execution_count": 6,
     "metadata": {},
     "output_type": "execute_result"
    }
   ],
   "source": [
    "accre_df.tail(3)"
   ]
  },
  {
   "cell_type": "code",
   "execution_count": 7,
   "metadata": {},
   "outputs": [
    {
     "data": {
      "text/plain": [
       "(99999, 18)"
      ]
     },
     "execution_count": 7,
     "metadata": {},
     "output_type": "execute_result"
    }
   ],
   "source": [
    "accre_df.shape"
   ]
  },
  {
   "cell_type": "code",
   "execution_count": 8,
   "metadata": {},
   "outputs": [
    {
     "name": "stdout",
     "output_type": "stream",
     "text": [
      "<class 'pandas.core.frame.DataFrame'>\n",
      "RangeIndex: 99999 entries, 1 to 99999\n",
      "Data columns (total 18 columns):\n",
      " #   Column     Non-Null Count  Dtype \n",
      "---  ------     --------------  ----- \n",
      " 0   JOBID      99999 non-null  object\n",
      " 1   ACCOUNT    99999 non-null  object\n",
      " 2   USER       99999 non-null  object\n",
      " 3   REQMEM     99999 non-null  object\n",
      " 4   USEDMEM    99999 non-null  object\n",
      " 5   REQTIME    99999 non-null  object\n",
      " 6   USEDTIME   99999 non-null  object\n",
      " 7   NODES      99999 non-null  object\n",
      " 8   CPUS       99999 non-null  object\n",
      " 9   PARTITION  99999 non-null  object\n",
      " 10  EXITCODE   99999 non-null  object\n",
      " 11  STATE      99999 non-null  object\n",
      " 12  NODE1      99999 non-null  object\n",
      " 13  NODE2      127 non-null    object\n",
      " 14  NODE3      46 non-null     object\n",
      " 15  NODE4      30 non-null     object\n",
      " 16  NODE5      10 non-null     object\n",
      " 17  NODE6      9 non-null      object\n",
      "dtypes: object(18)\n",
      "memory usage: 13.7+ MB\n"
     ]
    }
   ],
   "source": [
    "accre_df.info()"
   ]
  },
  {
   "cell_type": "markdown",
   "metadata": {},
   "source": [
    "Remove Duplicate"
   ]
  },
  {
   "cell_type": "code",
   "execution_count": 9,
   "metadata": {},
   "outputs": [],
   "source": [
    "accre_df.sort_values(by=\"JOBID\", inplace=True) \n",
    "accre_df.drop_duplicates(subset='JOBID', keep='first', inplace=True)\n",
    "accre_df.reset_index(inplace=True)"
   ]
  },
  {
   "cell_type": "code",
   "execution_count": 10,
   "metadata": {},
   "outputs": [
    {
     "data": {
      "text/plain": [
       "(99999, 19)"
      ]
     },
     "execution_count": 10,
     "metadata": {},
     "output_type": "execute_result"
    }
   ],
   "source": [
    "accre_df.shape"
   ]
  },
  {
   "cell_type": "markdown",
   "metadata": {},
   "source": [
    "Clean up column names"
   ]
  },
  {
   "cell_type": "code",
   "execution_count": 11,
   "metadata": {},
   "outputs": [
    {
     "data": {
      "text/html": [
       "<div>\n",
       "<style scoped>\n",
       "    .dataframe tbody tr th:only-of-type {\n",
       "        vertical-align: middle;\n",
       "    }\n",
       "\n",
       "    .dataframe tbody tr th {\n",
       "        vertical-align: top;\n",
       "    }\n",
       "\n",
       "    .dataframe thead th {\n",
       "        text-align: right;\n",
       "    }\n",
       "</style>\n",
       "<table border=\"1\" class=\"dataframe\">\n",
       "  <thead>\n",
       "    <tr style=\"text-align: right;\">\n",
       "      <th></th>\n",
       "      <th>index</th>\n",
       "      <th>jobid</th>\n",
       "      <th>account</th>\n",
       "      <th>user</th>\n",
       "      <th>reqmem</th>\n",
       "      <th>usedmem</th>\n",
       "      <th>reqtime</th>\n",
       "      <th>usedtime</th>\n",
       "      <th>nodes</th>\n",
       "      <th>cpus</th>\n",
       "      <th>partition</th>\n",
       "      <th>exitcode</th>\n",
       "      <th>state</th>\n",
       "      <th>node1</th>\n",
       "      <th>node2</th>\n",
       "      <th>node3</th>\n",
       "      <th>node4</th>\n",
       "      <th>node5</th>\n",
       "      <th>node6</th>\n",
       "    </tr>\n",
       "  </thead>\n",
       "  <tbody>\n",
       "    <tr>\n",
       "      <th>0</th>\n",
       "      <td>3</td>\n",
       "      <td>15861125</td>\n",
       "      <td>treviso</td>\n",
       "      <td>arabella</td>\n",
       "      <td>122880Mn</td>\n",
       "      <td>69111.86M</td>\n",
       "      <td>13-18:00:00</td>\n",
       "      <td>13-18:00:20</td>\n",
       "      <td>1</td>\n",
       "      <td>24</td>\n",
       "      <td>production</td>\n",
       "      <td>0:0</td>\n",
       "      <td>COMPLETED</td>\n",
       "      <td>cn1464</td>\n",
       "      <td>NaN</td>\n",
       "      <td>NaN</td>\n",
       "      <td>NaN</td>\n",
       "      <td>NaN</td>\n",
       "      <td>NaN</td>\n",
       "    </tr>\n",
       "    <tr>\n",
       "      <th>1</th>\n",
       "      <td>2</td>\n",
       "      <td>15861126</td>\n",
       "      <td>treviso</td>\n",
       "      <td>arabella</td>\n",
       "      <td>122880Mn</td>\n",
       "      <td>67181.12M</td>\n",
       "      <td>13-18:00:00</td>\n",
       "      <td>12-14:50:56</td>\n",
       "      <td>1</td>\n",
       "      <td>24</td>\n",
       "      <td>production</td>\n",
       "      <td>0:0</td>\n",
       "      <td>COMPLETED</td>\n",
       "      <td>cn1441</td>\n",
       "      <td>NaN</td>\n",
       "      <td>NaN</td>\n",
       "      <td>NaN</td>\n",
       "      <td>NaN</td>\n",
       "      <td>NaN</td>\n",
       "    </tr>\n",
       "    <tr>\n",
       "      <th>2</th>\n",
       "      <td>1</td>\n",
       "      <td>15925210</td>\n",
       "      <td>treviso</td>\n",
       "      <td>arabella</td>\n",
       "      <td>122880Mn</td>\n",
       "      <td>65973.49M</td>\n",
       "      <td>13-18:00:00</td>\n",
       "      <td>13-18:00:28</td>\n",
       "      <td>1</td>\n",
       "      <td>24</td>\n",
       "      <td>production</td>\n",
       "      <td>0:0</td>\n",
       "      <td>COMPLETED</td>\n",
       "      <td>cn1531</td>\n",
       "      <td>NaN</td>\n",
       "      <td>NaN</td>\n",
       "      <td>NaN</td>\n",
       "      <td>NaN</td>\n",
       "      <td>NaN</td>\n",
       "    </tr>\n",
       "    <tr>\n",
       "      <th>3</th>\n",
       "      <td>4</td>\n",
       "      <td>16251645</td>\n",
       "      <td>treviso</td>\n",
       "      <td>arabella</td>\n",
       "      <td>122880Mn</td>\n",
       "      <td>65317.33M</td>\n",
       "      <td>13-18:00:00</td>\n",
       "      <td>12-03:50:32</td>\n",
       "      <td>1</td>\n",
       "      <td>24</td>\n",
       "      <td>production</td>\n",
       "      <td>0:0</td>\n",
       "      <td>COMPLETED</td>\n",
       "      <td>cn1473</td>\n",
       "      <td>NaN</td>\n",
       "      <td>NaN</td>\n",
       "      <td>NaN</td>\n",
       "      <td>NaN</td>\n",
       "      <td>NaN</td>\n",
       "    </tr>\n",
       "    <tr>\n",
       "      <th>4</th>\n",
       "      <td>5</td>\n",
       "      <td>16251646</td>\n",
       "      <td>treviso</td>\n",
       "      <td>arabella</td>\n",
       "      <td>122880Mn</td>\n",
       "      <td>65876.11M</td>\n",
       "      <td>13-18:00:00</td>\n",
       "      <td>13-18:00:03</td>\n",
       "      <td>1</td>\n",
       "      <td>24</td>\n",
       "      <td>production</td>\n",
       "      <td>0:0</td>\n",
       "      <td>COMPLETED</td>\n",
       "      <td>cn1440</td>\n",
       "      <td>NaN</td>\n",
       "      <td>NaN</td>\n",
       "      <td>NaN</td>\n",
       "      <td>NaN</td>\n",
       "      <td>NaN</td>\n",
       "    </tr>\n",
       "  </tbody>\n",
       "</table>\n",
       "</div>"
      ],
      "text/plain": [
       "   index     jobid  account      user    reqmem    usedmem      reqtime  \\\n",
       "0      3  15861125  treviso  arabella  122880Mn  69111.86M  13-18:00:00   \n",
       "1      2  15861126  treviso  arabella  122880Mn  67181.12M  13-18:00:00   \n",
       "2      1  15925210  treviso  arabella  122880Mn  65973.49M  13-18:00:00   \n",
       "3      4  16251645  treviso  arabella  122880Mn  65317.33M  13-18:00:00   \n",
       "4      5  16251646  treviso  arabella  122880Mn  65876.11M  13-18:00:00   \n",
       "\n",
       "      usedtime nodes cpus   partition exitcode      state   node1 node2 node3  \\\n",
       "0  13-18:00:20     1   24  production      0:0  COMPLETED  cn1464   NaN   NaN   \n",
       "1  12-14:50:56     1   24  production      0:0  COMPLETED  cn1441   NaN   NaN   \n",
       "2  13-18:00:28     1   24  production      0:0  COMPLETED  cn1531   NaN   NaN   \n",
       "3  12-03:50:32     1   24  production      0:0  COMPLETED  cn1473   NaN   NaN   \n",
       "4  13-18:00:03     1   24  production      0:0  COMPLETED  cn1440   NaN   NaN   \n",
       "\n",
       "  node4 node5 node6  \n",
       "0   NaN   NaN   NaN  \n",
       "1   NaN   NaN   NaN  \n",
       "2   NaN   NaN   NaN  \n",
       "3   NaN   NaN   NaN  \n",
       "4   NaN   NaN   NaN  "
      ]
     },
     "execution_count": 11,
     "metadata": {},
     "output_type": "execute_result"
    }
   ],
   "source": [
    "accre_df.columns = accre_df.columns.str.lower()\n",
    "accre_df.head()"
   ]
  },
  {
   "cell_type": "markdown",
   "metadata": {},
   "source": [
    "Only look at Production"
   ]
  },
  {
   "cell_type": "code",
   "execution_count": 12,
   "metadata": {},
   "outputs": [
    {
     "data": {
      "text/plain": [
       "(81669, 19)"
      ]
     },
     "execution_count": 12,
     "metadata": {},
     "output_type": "execute_result"
    }
   ],
   "source": [
    "accre_df = accre_df.loc[accre_df.partition == 'production']\n",
    "accre_df.shape"
   ]
  },
  {
   "cell_type": "markdown",
   "metadata": {},
   "source": [
    "Only look at successful runs"
   ]
  },
  {
   "cell_type": "code",
   "execution_count": 13,
   "metadata": {
    "scrolled": true
   },
   "outputs": [
    {
     "data": {
      "text/plain": [
       "(81663, 19)"
      ]
     },
     "execution_count": 13,
     "metadata": {},
     "output_type": "execute_result"
    }
   ],
   "source": [
    "accre_df=accre_df[accre_df.exitcode=='0:0']\n",
    "accre_df.shape"
   ]
  },
  {
   "cell_type": "markdown",
   "metadata": {},
   "source": [
    "Only look at one node"
   ]
  },
  {
   "cell_type": "code",
   "execution_count": 14,
   "metadata": {},
   "outputs": [
    {
     "data": {
      "text/plain": [
       "nodes\n",
       "1     58621\n",
       "2        67\n",
       "3         2\n",
       "4         5\n",
       "5         1\n",
       "12        1\n",
       "13        2\n",
       "19        5\n",
       "21        1\n",
       "23        1\n",
       "25        1\n",
       "30        2\n",
       "38        1\n",
       "1     22828\n",
       "2        77\n",
       "3        24\n",
       "4        24\n",
       "Name: jobid, dtype: int64"
      ]
     },
     "execution_count": 14,
     "metadata": {},
     "output_type": "execute_result"
    }
   ],
   "source": [
    "accre_df.groupby(['nodes'])['jobid'].count()"
   ]
  },
  {
   "cell_type": "code",
   "execution_count": 15,
   "metadata": {},
   "outputs": [],
   "source": [
    "accre_df ['nodes'] = pd.to_numeric (accre_df ['nodes']) "
   ]
  },
  {
   "cell_type": "code",
   "execution_count": 16,
   "metadata": {},
   "outputs": [
    {
     "data": {
      "text/plain": [
       "nodes\n",
       "1     81449\n",
       "2       144\n",
       "3        26\n",
       "4        29\n",
       "5         1\n",
       "12        1\n",
       "13        2\n",
       "19        5\n",
       "21        1\n",
       "23        1\n",
       "25        1\n",
       "30        2\n",
       "38        1\n",
       "Name: jobid, dtype: int64"
      ]
     },
     "execution_count": 16,
     "metadata": {},
     "output_type": "execute_result"
    }
   ],
   "source": [
    "accre_df.groupby(['nodes'])['jobid'].count()"
   ]
  },
  {
   "cell_type": "code",
   "execution_count": 17,
   "metadata": {},
   "outputs": [
    {
     "data": {
      "text/plain": [
       "(81449, 19)"
      ]
     },
     "execution_count": 17,
     "metadata": {},
     "output_type": "execute_result"
    }
   ],
   "source": [
    "accre_df = accre_df[accre_df.nodes == 1]\n",
    "accre_df.shape"
   ]
  },
  {
   "cell_type": "markdown",
   "metadata": {},
   "source": [
    "Add two extra columns to separate requested memory type and memory quantity"
   ]
  },
  {
   "cell_type": "code",
   "execution_count": 18,
   "metadata": {},
   "outputs": [
    {
     "data": {
      "text/html": [
       "<div>\n",
       "<style scoped>\n",
       "    .dataframe tbody tr th:only-of-type {\n",
       "        vertical-align: middle;\n",
       "    }\n",
       "\n",
       "    .dataframe tbody tr th {\n",
       "        vertical-align: top;\n",
       "    }\n",
       "\n",
       "    .dataframe thead th {\n",
       "        text-align: right;\n",
       "    }\n",
       "</style>\n",
       "<table border=\"1\" class=\"dataframe\">\n",
       "  <thead>\n",
       "    <tr style=\"text-align: right;\">\n",
       "      <th></th>\n",
       "      <th>index</th>\n",
       "      <th>jobid</th>\n",
       "      <th>account</th>\n",
       "      <th>user</th>\n",
       "      <th>reqmem</th>\n",
       "      <th>usedmem</th>\n",
       "      <th>reqtime</th>\n",
       "      <th>usedtime</th>\n",
       "      <th>nodes</th>\n",
       "      <th>cpus</th>\n",
       "      <th>...</th>\n",
       "      <th>exitcode</th>\n",
       "      <th>state</th>\n",
       "      <th>node1</th>\n",
       "      <th>node2</th>\n",
       "      <th>node3</th>\n",
       "      <th>node4</th>\n",
       "      <th>node5</th>\n",
       "      <th>node6</th>\n",
       "      <th>reqmem_num</th>\n",
       "      <th>reqmem_type</th>\n",
       "    </tr>\n",
       "  </thead>\n",
       "  <tbody>\n",
       "    <tr>\n",
       "      <th>99992</th>\n",
       "      <td>99993</td>\n",
       "      <td>17229135</td>\n",
       "      <td>cms_lowprio</td>\n",
       "      <td>cmslocal</td>\n",
       "      <td>28000Mn</td>\n",
       "      <td>6667.50M</td>\n",
       "      <td>2-00:00:00</td>\n",
       "      <td>07:44:13</td>\n",
       "      <td>1</td>\n",
       "      <td>4</td>\n",
       "      <td>...</td>\n",
       "      <td>0:0</td>\n",
       "      <td>COMPLETED</td>\n",
       "      <td>cn401</td>\n",
       "      <td>NaN</td>\n",
       "      <td>NaN</td>\n",
       "      <td>NaN</td>\n",
       "      <td>NaN</td>\n",
       "      <td>NaN</td>\n",
       "      <td>28000</td>\n",
       "      <td>Mn</td>\n",
       "    </tr>\n",
       "    <tr>\n",
       "      <th>99997</th>\n",
       "      <td>99998</td>\n",
       "      <td>17229140</td>\n",
       "      <td>cms</td>\n",
       "      <td>cmslocal</td>\n",
       "      <td>28000Mn</td>\n",
       "      <td>9001.97M</td>\n",
       "      <td>2-00:00:00</td>\n",
       "      <td>07:49:19</td>\n",
       "      <td>1</td>\n",
       "      <td>4</td>\n",
       "      <td>...</td>\n",
       "      <td>0:0</td>\n",
       "      <td>COMPLETED</td>\n",
       "      <td>cn500</td>\n",
       "      <td>NaN</td>\n",
       "      <td>NaN</td>\n",
       "      <td>NaN</td>\n",
       "      <td>NaN</td>\n",
       "      <td>NaN</td>\n",
       "      <td>28000</td>\n",
       "      <td>Mn</td>\n",
       "    </tr>\n",
       "    <tr>\n",
       "      <th>99998</th>\n",
       "      <td>99999</td>\n",
       "      <td>17229141</td>\n",
       "      <td>cms</td>\n",
       "      <td>cmslocal</td>\n",
       "      <td>28000Mn</td>\n",
       "      <td>8508.70M</td>\n",
       "      <td>2-00:00:00</td>\n",
       "      <td>07:49:19</td>\n",
       "      <td>1</td>\n",
       "      <td>4</td>\n",
       "      <td>...</td>\n",
       "      <td>0:0</td>\n",
       "      <td>COMPLETED</td>\n",
       "      <td>cn498</td>\n",
       "      <td>NaN</td>\n",
       "      <td>NaN</td>\n",
       "      <td>NaN</td>\n",
       "      <td>NaN</td>\n",
       "      <td>NaN</td>\n",
       "      <td>28000</td>\n",
       "      <td>Mn</td>\n",
       "    </tr>\n",
       "  </tbody>\n",
       "</table>\n",
       "<p>3 rows × 21 columns</p>\n",
       "</div>"
      ],
      "text/plain": [
       "       index     jobid      account      user   reqmem   usedmem     reqtime  \\\n",
       "99992  99993  17229135  cms_lowprio  cmslocal  28000Mn  6667.50M  2-00:00:00   \n",
       "99997  99998  17229140          cms  cmslocal  28000Mn  9001.97M  2-00:00:00   \n",
       "99998  99999  17229141          cms  cmslocal  28000Mn  8508.70M  2-00:00:00   \n",
       "\n",
       "       usedtime  nodes cpus  ... exitcode      state  node1 node2 node3 node4  \\\n",
       "99992  07:44:13      1    4  ...      0:0  COMPLETED  cn401   NaN   NaN   NaN   \n",
       "99997  07:49:19      1    4  ...      0:0  COMPLETED  cn500   NaN   NaN   NaN   \n",
       "99998  07:49:19      1    4  ...      0:0  COMPLETED  cn498   NaN   NaN   NaN   \n",
       "\n",
       "      node5 node6 reqmem_num reqmem_type  \n",
       "99992   NaN   NaN      28000          Mn  \n",
       "99997   NaN   NaN      28000          Mn  \n",
       "99998   NaN   NaN      28000          Mn  \n",
       "\n",
       "[3 rows x 21 columns]"
      ]
     },
     "execution_count": 18,
     "metadata": {},
     "output_type": "execute_result"
    }
   ],
   "source": [
    "accre_df['reqmem_num'] = accre_df['reqmem'].str[:-2]\n",
    "accre_df['reqmem_type'] = accre_df['reqmem'].str[-2:]\n",
    "accre_df.tail(3)"
   ]
  },
  {
   "cell_type": "code",
   "execution_count": 19,
   "metadata": {},
   "outputs": [
    {
     "data": {
      "text/plain": [
       "array(['Mn', 'Mc'], dtype=object)"
      ]
     },
     "execution_count": 19,
     "metadata": {},
     "output_type": "execute_result"
    }
   ],
   "source": [
    "accre_df.reqmem_type.unique()"
   ]
  },
  {
   "cell_type": "markdown",
   "metadata": {},
   "source": [
    "Calculate memory per node"
   ]
  },
  {
   "cell_type": "code",
   "execution_count": 20,
   "metadata": {},
   "outputs": [],
   "source": [
    "def conversion(row):\n",
    "    if row['reqmem_type']=='Mc':\n",
    "        return row['reqmem_num'] * row['cpus']\n",
    "    else:\n",
    "        return row['reqmem_num']"
   ]
  },
  {
   "cell_type": "code",
   "execution_count": 21,
   "metadata": {},
   "outputs": [],
   "source": [
    "accre_df ['reqmem_num'] = pd.to_numeric (accre_df ['reqmem_num']) \n",
    "accre_df ['cpus'] = pd.to_numeric (accre_df ['cpus']) "
   ]
  },
  {
   "cell_type": "code",
   "execution_count": 22,
   "metadata": {},
   "outputs": [],
   "source": [
    "accre_df['reqmem_per_node'] = accre_df.apply(lambda row: conversion(row), axis = 1)"
   ]
  },
  {
   "cell_type": "code",
   "execution_count": 23,
   "metadata": {},
   "outputs": [],
   "source": [
    "accre_df['usedmem_per_node'] = accre_df['usedmem'].str.replace('M', '', regex=False)\n",
    "accre_df['usedmem_per_node'] = pd.to_numeric(accre_df['usedmem_per_node'], errors='coerce')"
   ]
  },
  {
   "cell_type": "markdown",
   "metadata": {},
   "source": [
    "Clean up time to seconds"
   ]
  },
  {
   "cell_type": "code",
   "execution_count": 24,
   "metadata": {},
   "outputs": [],
   "source": [
    "def time_to_second(sec):\n",
    "    time = sec.split('-')\n",
    "    if len(time) == 2:\n",
    "        day = int(time[0])*86400\n",
    "    else:\n",
    "        day = 0\n",
    "    h,m,s = time[-1].split (':')\n",
    "    day = day + int (h)*3600\n",
    "    day = day + int (m)*60\n",
    "    day = day +int(s)\n",
    "    return day"
   ]
  },
  {
   "cell_type": "code",
   "execution_count": 25,
   "metadata": {},
   "outputs": [
    {
     "data": {
      "text/plain": [
       "(81449, 24)"
      ]
     },
     "execution_count": 25,
     "metadata": {},
     "output_type": "execute_result"
    }
   ],
   "source": [
    "accre_df['usedtime_sec'] = accre_df['usedtime'].apply(time_to_second)\n",
    "accre_df.shape"
   ]
  },
  {
   "cell_type": "code",
   "execution_count": 26,
   "metadata": {},
   "outputs": [
    {
     "data": {
      "text/plain": [
       "(81449, 25)"
      ]
     },
     "execution_count": 26,
     "metadata": {},
     "output_type": "execute_result"
    }
   ],
   "source": [
    "accre_df['reqtime_sec'] = accre_df['reqtime'].apply(time_to_second)\n",
    "accre_df.shape"
   ]
  },
  {
   "cell_type": "markdown",
   "metadata": {},
   "source": [
    "Clean up Job_ID"
   ]
  },
  {
   "cell_type": "code",
   "execution_count": 27,
   "metadata": {},
   "outputs": [],
   "source": [
    "#accre_df['jobid_array']=accre_df['jobid'].apply(lambda x: x.split('_'))"
   ]
  },
  {
   "cell_type": "code",
   "execution_count": 28,
   "metadata": {
    "scrolled": true
   },
   "outputs": [],
   "source": [
    "accre_df['jobid_array']=[x.split('_')[0] for x in accre_df['jobid']]"
   ]
  },
  {
   "cell_type": "code",
   "execution_count": 29,
   "metadata": {},
   "outputs": [
    {
     "data": {
      "text/html": [
       "<div>\n",
       "<style scoped>\n",
       "    .dataframe tbody tr th:only-of-type {\n",
       "        vertical-align: middle;\n",
       "    }\n",
       "\n",
       "    .dataframe tbody tr th {\n",
       "        vertical-align: top;\n",
       "    }\n",
       "\n",
       "    .dataframe thead th {\n",
       "        text-align: right;\n",
       "    }\n",
       "</style>\n",
       "<table border=\"1\" class=\"dataframe\">\n",
       "  <thead>\n",
       "    <tr style=\"text-align: right;\">\n",
       "      <th></th>\n",
       "      <th>index</th>\n",
       "      <th>jobid</th>\n",
       "      <th>account</th>\n",
       "      <th>user</th>\n",
       "      <th>reqmem</th>\n",
       "      <th>usedmem</th>\n",
       "      <th>reqtime</th>\n",
       "      <th>usedtime</th>\n",
       "      <th>nodes</th>\n",
       "      <th>cpus</th>\n",
       "      <th>...</th>\n",
       "      <th>node4</th>\n",
       "      <th>node5</th>\n",
       "      <th>node6</th>\n",
       "      <th>reqmem_num</th>\n",
       "      <th>reqmem_type</th>\n",
       "      <th>reqmem_per_node</th>\n",
       "      <th>usedmem_per_node</th>\n",
       "      <th>usedtime_sec</th>\n",
       "      <th>reqtime_sec</th>\n",
       "      <th>jobid_array</th>\n",
       "    </tr>\n",
       "  </thead>\n",
       "  <tbody>\n",
       "    <tr>\n",
       "      <th>0</th>\n",
       "      <td>3</td>\n",
       "      <td>15861125</td>\n",
       "      <td>treviso</td>\n",
       "      <td>arabella</td>\n",
       "      <td>122880Mn</td>\n",
       "      <td>69111.86M</td>\n",
       "      <td>13-18:00:00</td>\n",
       "      <td>13-18:00:20</td>\n",
       "      <td>1</td>\n",
       "      <td>24</td>\n",
       "      <td>...</td>\n",
       "      <td>NaN</td>\n",
       "      <td>NaN</td>\n",
       "      <td>NaN</td>\n",
       "      <td>122880</td>\n",
       "      <td>Mn</td>\n",
       "      <td>122880</td>\n",
       "      <td>69111.86</td>\n",
       "      <td>1188020</td>\n",
       "      <td>1188000</td>\n",
       "      <td>15861125</td>\n",
       "    </tr>\n",
       "    <tr>\n",
       "      <th>1</th>\n",
       "      <td>2</td>\n",
       "      <td>15861126</td>\n",
       "      <td>treviso</td>\n",
       "      <td>arabella</td>\n",
       "      <td>122880Mn</td>\n",
       "      <td>67181.12M</td>\n",
       "      <td>13-18:00:00</td>\n",
       "      <td>12-14:50:56</td>\n",
       "      <td>1</td>\n",
       "      <td>24</td>\n",
       "      <td>...</td>\n",
       "      <td>NaN</td>\n",
       "      <td>NaN</td>\n",
       "      <td>NaN</td>\n",
       "      <td>122880</td>\n",
       "      <td>Mn</td>\n",
       "      <td>122880</td>\n",
       "      <td>67181.12</td>\n",
       "      <td>1090256</td>\n",
       "      <td>1188000</td>\n",
       "      <td>15861126</td>\n",
       "    </tr>\n",
       "    <tr>\n",
       "      <th>2</th>\n",
       "      <td>1</td>\n",
       "      <td>15925210</td>\n",
       "      <td>treviso</td>\n",
       "      <td>arabella</td>\n",
       "      <td>122880Mn</td>\n",
       "      <td>65973.49M</td>\n",
       "      <td>13-18:00:00</td>\n",
       "      <td>13-18:00:28</td>\n",
       "      <td>1</td>\n",
       "      <td>24</td>\n",
       "      <td>...</td>\n",
       "      <td>NaN</td>\n",
       "      <td>NaN</td>\n",
       "      <td>NaN</td>\n",
       "      <td>122880</td>\n",
       "      <td>Mn</td>\n",
       "      <td>122880</td>\n",
       "      <td>65973.49</td>\n",
       "      <td>1188028</td>\n",
       "      <td>1188000</td>\n",
       "      <td>15925210</td>\n",
       "    </tr>\n",
       "    <tr>\n",
       "      <th>3</th>\n",
       "      <td>4</td>\n",
       "      <td>16251645</td>\n",
       "      <td>treviso</td>\n",
       "      <td>arabella</td>\n",
       "      <td>122880Mn</td>\n",
       "      <td>65317.33M</td>\n",
       "      <td>13-18:00:00</td>\n",
       "      <td>12-03:50:32</td>\n",
       "      <td>1</td>\n",
       "      <td>24</td>\n",
       "      <td>...</td>\n",
       "      <td>NaN</td>\n",
       "      <td>NaN</td>\n",
       "      <td>NaN</td>\n",
       "      <td>122880</td>\n",
       "      <td>Mn</td>\n",
       "      <td>122880</td>\n",
       "      <td>65317.33</td>\n",
       "      <td>1050632</td>\n",
       "      <td>1188000</td>\n",
       "      <td>16251645</td>\n",
       "    </tr>\n",
       "    <tr>\n",
       "      <th>4</th>\n",
       "      <td>5</td>\n",
       "      <td>16251646</td>\n",
       "      <td>treviso</td>\n",
       "      <td>arabella</td>\n",
       "      <td>122880Mn</td>\n",
       "      <td>65876.11M</td>\n",
       "      <td>13-18:00:00</td>\n",
       "      <td>13-18:00:03</td>\n",
       "      <td>1</td>\n",
       "      <td>24</td>\n",
       "      <td>...</td>\n",
       "      <td>NaN</td>\n",
       "      <td>NaN</td>\n",
       "      <td>NaN</td>\n",
       "      <td>122880</td>\n",
       "      <td>Mn</td>\n",
       "      <td>122880</td>\n",
       "      <td>65876.11</td>\n",
       "      <td>1188003</td>\n",
       "      <td>1188000</td>\n",
       "      <td>16251646</td>\n",
       "    </tr>\n",
       "  </tbody>\n",
       "</table>\n",
       "<p>5 rows × 26 columns</p>\n",
       "</div>"
      ],
      "text/plain": [
       "   index     jobid  account      user    reqmem    usedmem      reqtime  \\\n",
       "0      3  15861125  treviso  arabella  122880Mn  69111.86M  13-18:00:00   \n",
       "1      2  15861126  treviso  arabella  122880Mn  67181.12M  13-18:00:00   \n",
       "2      1  15925210  treviso  arabella  122880Mn  65973.49M  13-18:00:00   \n",
       "3      4  16251645  treviso  arabella  122880Mn  65317.33M  13-18:00:00   \n",
       "4      5  16251646  treviso  arabella  122880Mn  65876.11M  13-18:00:00   \n",
       "\n",
       "      usedtime  nodes  cpus  ... node4 node5 node6 reqmem_num reqmem_type  \\\n",
       "0  13-18:00:20      1    24  ...   NaN   NaN   NaN     122880          Mn   \n",
       "1  12-14:50:56      1    24  ...   NaN   NaN   NaN     122880          Mn   \n",
       "2  13-18:00:28      1    24  ...   NaN   NaN   NaN     122880          Mn   \n",
       "3  12-03:50:32      1    24  ...   NaN   NaN   NaN     122880          Mn   \n",
       "4  13-18:00:03      1    24  ...   NaN   NaN   NaN     122880          Mn   \n",
       "\n",
       "  reqmem_per_node usedmem_per_node usedtime_sec reqtime_sec  jobid_array  \n",
       "0          122880         69111.86      1188020     1188000     15861125  \n",
       "1          122880         67181.12      1090256     1188000     15861126  \n",
       "2          122880         65973.49      1188028     1188000     15925210  \n",
       "3          122880         65317.33      1050632     1188000     16251645  \n",
       "4          122880         65876.11      1188003     1188000     16251646  \n",
       "\n",
       "[5 rows x 26 columns]"
      ]
     },
     "execution_count": 29,
     "metadata": {},
     "output_type": "execute_result"
    }
   ],
   "source": [
    "accre_df.head()"
   ]
  },
  {
   "cell_type": "code",
   "execution_count": 30,
   "metadata": {},
   "outputs": [
    {
     "data": {
      "text/plain": [
       "(81449, 26)"
      ]
     },
     "execution_count": 30,
     "metadata": {},
     "output_type": "execute_result"
    }
   ],
   "source": [
    "accre_df.shape"
   ]
  },
  {
   "cell_type": "markdown",
   "metadata": {},
   "source": [
    "**Q1: What groups are best optimizing their memory usage in\n",
    "terms of percent of actual memory used of the memory\n",
    "requested for a job? What is the average percent for each\n",
    "group?**"
   ]
  },
  {
   "cell_type": "code",
   "execution_count": 31,
   "metadata": {},
   "outputs": [
    {
     "name": "stderr",
     "output_type": "stream",
     "text": [
      "C:\\Users\\duant\\anaconda3\\lib\\site-packages\\ipykernel_launcher.py:1: FutureWarning: Indexing with multiple keys (implicitly converted to a tuple of keys) will be deprecated, use a list instead.\n",
      "  \"\"\"Entry point for launching an IPython kernel.\n"
     ]
    },
    {
     "data": {
      "text/html": [
       "<div>\n",
       "<style scoped>\n",
       "    .dataframe tbody tr th:only-of-type {\n",
       "        vertical-align: middle;\n",
       "    }\n",
       "\n",
       "    .dataframe tbody tr th {\n",
       "        vertical-align: top;\n",
       "    }\n",
       "\n",
       "    .dataframe thead th {\n",
       "        text-align: right;\n",
       "    }\n",
       "</style>\n",
       "<table border=\"1\" class=\"dataframe\">\n",
       "  <thead>\n",
       "    <tr style=\"text-align: right;\">\n",
       "      <th></th>\n",
       "      <th>account</th>\n",
       "      <th>usedmem_per_node</th>\n",
       "      <th>reqmem_per_node</th>\n",
       "    </tr>\n",
       "  </thead>\n",
       "  <tbody>\n",
       "    <tr>\n",
       "      <th>0</th>\n",
       "      <td>alkmene</td>\n",
       "      <td>6762531.02</td>\n",
       "      <td>17305600</td>\n",
       "    </tr>\n",
       "    <tr>\n",
       "      <th>1</th>\n",
       "      <td>anise</td>\n",
       "      <td>507831.79</td>\n",
       "      <td>1230848</td>\n",
       "    </tr>\n",
       "    <tr>\n",
       "      <th>2</th>\n",
       "      <td>arra</td>\n",
       "      <td>568102.62</td>\n",
       "      <td>1114112</td>\n",
       "    </tr>\n",
       "    <tr>\n",
       "      <th>3</th>\n",
       "      <td>baking</td>\n",
       "      <td>387488.77</td>\n",
       "      <td>987136</td>\n",
       "    </tr>\n",
       "    <tr>\n",
       "      <th>4</th>\n",
       "      <td>bell</td>\n",
       "      <td>46.22</td>\n",
       "      <td>20480</td>\n",
       "    </tr>\n",
       "  </tbody>\n",
       "</table>\n",
       "</div>"
      ],
      "text/plain": [
       "   account  usedmem_per_node  reqmem_per_node\n",
       "0  alkmene        6762531.02         17305600\n",
       "1    anise         507831.79          1230848\n",
       "2     arra         568102.62          1114112\n",
       "3   baking         387488.77           987136\n",
       "4     bell             46.22            20480"
      ]
     },
     "execution_count": 31,
     "metadata": {},
     "output_type": "execute_result"
    }
   ],
   "source": [
    "group_memory=accre_df.groupby(['account'])['usedmem_per_node','reqmem_per_node'].sum().reset_index()\n",
    "group_memory.head()"
   ]
  },
  {
   "cell_type": "code",
   "execution_count": 32,
   "metadata": {},
   "outputs": [],
   "source": [
    "group_memory['pct_used_req'] = group_memory['usedmem_per_node']/group_memory['reqmem_per_node']\n",
    "group_memory=group_memory.sort_values('pct_used_req',ascending=False)"
   ]
  },
  {
   "cell_type": "code",
   "execution_count": 33,
   "metadata": {},
   "outputs": [
    {
     "data": {
      "text/html": [
       "<div>\n",
       "<style scoped>\n",
       "    .dataframe tbody tr th:only-of-type {\n",
       "        vertical-align: middle;\n",
       "    }\n",
       "\n",
       "    .dataframe tbody tr th {\n",
       "        vertical-align: top;\n",
       "    }\n",
       "\n",
       "    .dataframe thead th {\n",
       "        text-align: right;\n",
       "    }\n",
       "</style>\n",
       "<table border=\"1\" class=\"dataframe\">\n",
       "  <thead>\n",
       "    <tr style=\"text-align: right;\">\n",
       "      <th></th>\n",
       "      <th>account</th>\n",
       "      <th>usedmem_per_node</th>\n",
       "      <th>reqmem_per_node</th>\n",
       "      <th>pct_used_req</th>\n",
       "    </tr>\n",
       "  </thead>\n",
       "  <tbody>\n",
       "    <tr>\n",
       "      <th>46</th>\n",
       "      <td>pepino</td>\n",
       "      <td>706547.06</td>\n",
       "      <td>716800</td>\n",
       "      <td>0.985696</td>\n",
       "    </tr>\n",
       "    <tr>\n",
       "      <th>52</th>\n",
       "      <td>seeded</td>\n",
       "      <td>307578.71</td>\n",
       "      <td>491520</td>\n",
       "      <td>0.625770</td>\n",
       "    </tr>\n",
       "    <tr>\n",
       "      <th>60</th>\n",
       "      <td>water</td>\n",
       "      <td>107458.19</td>\n",
       "      <td>196608</td>\n",
       "      <td>0.546561</td>\n",
       "    </tr>\n",
       "    <tr>\n",
       "      <th>59</th>\n",
       "      <td>treviso</td>\n",
       "      <td>2086033.80</td>\n",
       "      <td>3932160</td>\n",
       "      <td>0.530506</td>\n",
       "    </tr>\n",
       "    <tr>\n",
       "      <th>7</th>\n",
       "      <td>blackberries</td>\n",
       "      <td>34175.61</td>\n",
       "      <td>65536</td>\n",
       "      <td>0.521478</td>\n",
       "    </tr>\n",
       "  </tbody>\n",
       "</table>\n",
       "</div>"
      ],
      "text/plain": [
       "         account  usedmem_per_node  reqmem_per_node  pct_used_req\n",
       "46        pepino         706547.06           716800      0.985696\n",
       "52        seeded         307578.71           491520      0.625770\n",
       "60         water         107458.19           196608      0.546561\n",
       "59       treviso        2086033.80          3932160      0.530506\n",
       "7   blackberries          34175.61            65536      0.521478"
      ]
     },
     "execution_count": 33,
     "metadata": {},
     "output_type": "execute_result"
    }
   ],
   "source": [
    "group_memory.head()"
   ]
  },
  {
   "cell_type": "code",
   "execution_count": 34,
   "metadata": {},
   "outputs": [
    {
     "data": {
      "text/html": [
       "<div>\n",
       "<style scoped>\n",
       "    .dataframe tbody tr th:only-of-type {\n",
       "        vertical-align: middle;\n",
       "    }\n",
       "\n",
       "    .dataframe tbody tr th {\n",
       "        vertical-align: top;\n",
       "    }\n",
       "\n",
       "    .dataframe thead th {\n",
       "        text-align: right;\n",
       "    }\n",
       "</style>\n",
       "<table border=\"1\" class=\"dataframe\">\n",
       "  <thead>\n",
       "    <tr style=\"text-align: right;\">\n",
       "      <th></th>\n",
       "      <th>account</th>\n",
       "      <th>usedmem_per_node</th>\n",
       "      <th>reqmem_per_node</th>\n",
       "      <th>pct_used_req</th>\n",
       "    </tr>\n",
       "  </thead>\n",
       "  <tbody>\n",
       "    <tr>\n",
       "      <th>51</th>\n",
       "      <td>round</td>\n",
       "      <td>119.22</td>\n",
       "      <td>163840</td>\n",
       "      <td>0.000728</td>\n",
       "    </tr>\n",
       "    <tr>\n",
       "      <th>9</th>\n",
       "      <td>boysenberries</td>\n",
       "      <td>1645.60</td>\n",
       "      <td>7080000</td>\n",
       "      <td>0.000232</td>\n",
       "    </tr>\n",
       "    <tr>\n",
       "      <th>37</th>\n",
       "      <td>lollo</td>\n",
       "      <td>130.88</td>\n",
       "      <td>942080</td>\n",
       "      <td>0.000139</td>\n",
       "    </tr>\n",
       "    <tr>\n",
       "      <th>54</th>\n",
       "      <td>st</td>\n",
       "      <td>39.55</td>\n",
       "      <td>786432</td>\n",
       "      <td>0.000050</td>\n",
       "    </tr>\n",
       "    <tr>\n",
       "      <th>47</th>\n",
       "      <td>pioppino</td>\n",
       "      <td>0.00</td>\n",
       "      <td>1024</td>\n",
       "      <td>0.000000</td>\n",
       "    </tr>\n",
       "  </tbody>\n",
       "</table>\n",
       "</div>"
      ],
      "text/plain": [
       "          account  usedmem_per_node  reqmem_per_node  pct_used_req\n",
       "51          round            119.22           163840      0.000728\n",
       "9   boysenberries           1645.60          7080000      0.000232\n",
       "37          lollo            130.88           942080      0.000139\n",
       "54             st             39.55           786432      0.000050\n",
       "47       pioppino              0.00             1024      0.000000"
      ]
     },
     "execution_count": 34,
     "metadata": {},
     "output_type": "execute_result"
    }
   ],
   "source": [
    "group_memory.tail()"
   ]
  },
  {
   "cell_type": "code",
   "execution_count": null,
   "metadata": {},
   "outputs": [],
   "source": []
  },
  {
   "cell_type": "markdown",
   "metadata": {},
   "source": [
    "**Q2: Optimizing memory is more important for longer\n",
    "running jobs then shorter running jobs as the resources\n",
    "are tied up for longer. If jobs are weighted by runtime,\n",
    "what is the average percent of memory used of the\n",
    "requested memory for each group?**"
   ]
  },
  {
   "cell_type": "code",
   "execution_count": 36,
   "metadata": {
    "scrolled": true
   },
   "outputs": [],
   "source": [
    "accre_df['time_req_mem'] = accre_df['usedtime_sec']*accre_df['reqmem_per_node']\n",
    "accre_df['time_use_mem'] = accre_df['usedtime_sec']*accre_df['usedmem_per_node']"
   ]
  },
  {
   "cell_type": "code",
   "execution_count": 58,
   "metadata": {},
   "outputs": [],
   "source": [
    "df_weighted = accre_df[['account','time_req_mem','time_use_mem']].groupby(['account']).sum().reset_index()"
   ]
  },
  {
   "cell_type": "code",
   "execution_count": 60,
   "metadata": {},
   "outputs": [],
   "source": [
    "df_weighted['weighted (%)'] = df_weighted['time_use_mem']/df_weighted['time_req_mem']*100"
   ]
  },
  {
   "cell_type": "code",
   "execution_count": 63,
   "metadata": {},
   "outputs": [
    {
     "data": {
      "text/html": [
       "<div>\n",
       "<style scoped>\n",
       "    .dataframe tbody tr th:only-of-type {\n",
       "        vertical-align: middle;\n",
       "    }\n",
       "\n",
       "    .dataframe tbody tr th {\n",
       "        vertical-align: top;\n",
       "    }\n",
       "\n",
       "    .dataframe thead th {\n",
       "        text-align: right;\n",
       "    }\n",
       "</style>\n",
       "<table border=\"1\" class=\"dataframe\">\n",
       "  <thead>\n",
       "    <tr style=\"text-align: right;\">\n",
       "      <th></th>\n",
       "      <th>account</th>\n",
       "      <th>time_req_mem</th>\n",
       "      <th>time_use_mem</th>\n",
       "      <th>weighted (%)</th>\n",
       "    </tr>\n",
       "  </thead>\n",
       "  <tbody>\n",
       "    <tr>\n",
       "      <th>47</th>\n",
       "      <td>pioppino</td>\n",
       "      <td>7168</td>\n",
       "      <td>0.000000e+00</td>\n",
       "      <td>0.000000</td>\n",
       "    </tr>\n",
       "    <tr>\n",
       "      <th>37</th>\n",
       "      <td>lollo</td>\n",
       "      <td>90453770240</td>\n",
       "      <td>1.268534e+07</td>\n",
       "      <td>0.014024</td>\n",
       "    </tr>\n",
       "    <tr>\n",
       "      <th>54</th>\n",
       "      <td>st</td>\n",
       "      <td>99221504</td>\n",
       "      <td>1.438523e+04</td>\n",
       "      <td>0.014498</td>\n",
       "    </tr>\n",
       "    <tr>\n",
       "      <th>9</th>\n",
       "      <td>boysenberries</td>\n",
       "      <td>290591240000</td>\n",
       "      <td>7.865169e+07</td>\n",
       "      <td>0.027066</td>\n",
       "    </tr>\n",
       "    <tr>\n",
       "      <th>51</th>\n",
       "      <td>round</td>\n",
       "      <td>3700899840</td>\n",
       "      <td>3.577210e+06</td>\n",
       "      <td>0.096658</td>\n",
       "    </tr>\n",
       "    <tr>\n",
       "      <th>...</th>\n",
       "      <td>...</td>\n",
       "      <td>...</td>\n",
       "      <td>...</td>\n",
       "      <td>...</td>\n",
       "    </tr>\n",
       "    <tr>\n",
       "      <th>31</th>\n",
       "      <td>fresh</td>\n",
       "      <td>441968230400</td>\n",
       "      <td>3.004443e+11</td>\n",
       "      <td>67.978700</td>\n",
       "    </tr>\n",
       "    <tr>\n",
       "      <th>42</th>\n",
       "      <td>muscat</td>\n",
       "      <td>21316237280</td>\n",
       "      <td>1.530250e+10</td>\n",
       "      <td>71.787992</td>\n",
       "    </tr>\n",
       "    <tr>\n",
       "      <th>52</th>\n",
       "      <td>seeded</td>\n",
       "      <td>138908549120</td>\n",
       "      <td>1.243976e+11</td>\n",
       "      <td>89.553563</td>\n",
       "    </tr>\n",
       "    <tr>\n",
       "      <th>15</th>\n",
       "      <td>cantared</td>\n",
       "      <td>897130348544</td>\n",
       "      <td>8.055319e+11</td>\n",
       "      <td>89.789842</td>\n",
       "    </tr>\n",
       "    <tr>\n",
       "      <th>46</th>\n",
       "      <td>pepino</td>\n",
       "      <td>348956661760</td>\n",
       "      <td>3.489488e+11</td>\n",
       "      <td>99.997748</td>\n",
       "    </tr>\n",
       "  </tbody>\n",
       "</table>\n",
       "<p>63 rows × 4 columns</p>\n",
       "</div>"
      ],
      "text/plain": [
       "          account  time_req_mem  time_use_mem  weighted (%)\n",
       "47       pioppino          7168  0.000000e+00      0.000000\n",
       "37          lollo   90453770240  1.268534e+07      0.014024\n",
       "54             st      99221504  1.438523e+04      0.014498\n",
       "9   boysenberries  290591240000  7.865169e+07      0.027066\n",
       "51          round    3700899840  3.577210e+06      0.096658\n",
       "..            ...           ...           ...           ...\n",
       "31          fresh  441968230400  3.004443e+11     67.978700\n",
       "42         muscat   21316237280  1.530250e+10     71.787992\n",
       "52         seeded  138908549120  1.243976e+11     89.553563\n",
       "15       cantared  897130348544  8.055319e+11     89.789842\n",
       "46         pepino  348956661760  3.489488e+11     99.997748\n",
       "\n",
       "[63 rows x 4 columns]"
      ]
     },
     "execution_count": 63,
     "metadata": {},
     "output_type": "execute_result"
    }
   ],
   "source": [
    "df_weighted = df_weighted.sort_values(by='weighted (%)')\n",
    "df_weighted"
   ]
  },
  {
   "cell_type": "code",
   "execution_count": null,
   "metadata": {},
   "outputs": [],
   "source": []
  }
 ],
 "metadata": {
  "kernelspec": {
   "display_name": "Python 3",
   "language": "python",
   "name": "python3"
  },
  "language_info": {
   "codemirror_mode": {
    "name": "ipython",
    "version": 3
   },
   "file_extension": ".py",
   "mimetype": "text/x-python",
   "name": "python",
   "nbconvert_exporter": "python",
   "pygments_lexer": "ipython3",
   "version": "3.7.6"
  }
 },
 "nbformat": 4,
 "nbformat_minor": 4
}
